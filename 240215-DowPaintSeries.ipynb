{
 "cells": [
  {
   "cell_type": "code",
   "execution_count": null,
   "id": "b15879c2-2725-4870-a148-a350917c7bc2",
   "metadata": {
    "tags": []
   },
   "outputs": [],
   "source": [
    "%load_ext autoreload\n",
    "%autoreload 2"
   ]
  },
  {
   "cell_type": "code",
   "execution_count": null,
   "id": "b5ac8f94-ee30-45b5-aa95-616beb0c346a",
   "metadata": {},
   "outputs": [],
   "source": [
    "import pathlib\n",
    "import re\n",
    "\n",
    "import copy\n",
    "\n",
    "import numpy as np\n",
    "import pandas as pd\n",
    "import xarray as xr\n",
    "xr.set_options(display_expand_data=False)\n",
    "\n",
    "from mpl_toolkits.mplot3d import Axes3D\n",
    "import matplotlib.pyplot as plt\n",
    "import seaborn as sns\n",
    "sns.set(context='notebook',palette='bright',style='ticks')\n",
    "\n",
    "import tqdm\n",
    "\n",
    "# import hvplot.xarray\n",
    "# import holoviews as hv\n",
    "# hv.extension('bokeh')\n",
    "\n",
    "%matplotlib inline\n",
    "%config InlineBackend.figure_format = 'retina'\n",
    "%config InlineBackend.figure_formats = ['svg']"
   ]
  },
  {
   "cell_type": "code",
   "execution_count": null,
   "id": "ad818367-b7d6-4033-b2b8-00d3e7dea6c4",
   "metadata": {},
   "outputs": [],
   "source": [
    "from AFL.automation import prepare\n",
    "from AFL.automation.shared.units import units,is_concentration,is_volume,is_mass\n",
    "from AFL.automation.APIServer.Client import Client"
   ]
  },
  {
   "cell_type": "markdown",
   "id": "fd49638a-3af7-4746-94f7-52029ff1170b",
   "metadata": {},
   "source": [
    "# Deck"
   ]
  },
  {
   "cell_type": "code",
   "execution_count": null,
   "id": "2aae48eb-dcb5-417c-ac37-b278cc8596c8",
   "metadata": {},
   "outputs": [],
   "source": [
    "deck =  prepare.Deck()\n",
    "tipracks=[(3,'opentrons_96_tiprack_300ul'),(6,'opentrons_96_tiprack_300ul')]\n",
    "deck.add_pipette('p300_single_gen2','left',tipracks=tipracks)\n",
    "\n",
    "tipracks=[(1,'opentrons_96_tiprack_1000ul'),(9,'opentrons_96_tiprack_1000ul')]\n",
    "deck.add_pipette('p1000_single_gen2','right',tipracks=tipracks)\n",
    "\n",
    "deck.add_container('nist_6_20ml_stirred_vials',5)\n",
    "\n",
    "deck.add_container('shaker_nest_96_wellplate_1600ul',4)\n",
    "\n",
    "catch_loc = '10A1'\n",
    "deck.add_catch ('nist_pneumatic_loader',10)"
   ]
  },
  {
   "cell_type": "code",
   "execution_count": null,
   "id": "6cbdbff5-85d1-4f43-bca3-f17cfdb1fece",
   "metadata": {},
   "outputs": [],
   "source": [
    "deck.init_remote_connection('piot2',home=True)\n",
    "deck.client.enqueue(task_name=\"reset_tipracks\")\n",
    "deck.send_deck_config()"
   ]
  },
  {
   "cell_type": "code",
   "execution_count": null,
   "id": "ddf699c5-0874-4b3a-92fa-0969d8004600",
   "metadata": {},
   "outputs": [],
   "source": [
    "deck.make_align_script('/home/afl642/align.py')"
   ]
  },
  {
   "cell_type": "markdown",
   "id": "5c34c378-e9a3-4133-b8af-f42e8a9b22a5",
   "metadata": {},
   "source": [
    "# Make Stocks and Add to Deck"
   ]
  },
  {
   "cell_type": "code",
   "execution_count": null,
   "id": "c7bf4e65-9f23-4621-8d7a-9b3480368238",
   "metadata": {},
   "outputs": [],
   "source": [
    "prepare.db.read()\n",
    "prepare.db"
   ]
  },
  {
   "cell_type": "code",
   "execution_count": null,
   "id": "898e419c-aacb-43d2-9abc-002f7061003f",
   "metadata": {},
   "outputs": [],
   "source": [
    "deck.reset_stocks()\n",
    "\n",
    "stock_H2O = prepare.Solution('stock_H2O',['H2O'])\n",
    "stock_H2O.volume = 20*units(\"ml\")\n",
    "deck.add_stock(stock_H2O,'5B1')\n",
    "\n",
    "stock_D2O = prepare.Solution('stock_D2O',['D2O'])\n",
    "stock_D2O.volume = 20*units(\"ml\")\n",
    "deck.add_stock(stock_D2O,'5A1')\n",
    "\n",
    "latex = 'latex_A66'\n",
    "phi_latex = 0.472 #A66\n",
    "stock_latex = prepare.Solution('stock_latex',['H2O',latex])\n",
    "stock_latex.volume = 20*units(\"ml\")\n",
    "stock_latex.volume_fraction = {latex:phi_latex}\n",
    "deck.add_stock(stock_latex,'5B3')\n",
    "\n",
    "\n",
    "pigment = 'TiO2_R746'\n",
    "wtfrac_slurry = 0.765#R746\n",
    "stock_TiO2 = prepare.Solution('stock_TiO2',['H2O',pigment])\n",
    "stock_TiO2.volume = 20*units(\"ml\")\n",
    "stock_TiO2.mass_fraction = {pigment:wtfrac_slurry}\n",
    "deck.add_stock(stock_TiO2,'5B2')"
   ]
  },
  {
   "cell_type": "markdown",
   "id": "daf3d162-2a10-485c-8eb9-c6e7dbaf7598",
   "metadata": {},
   "source": [
    "# Mask Calculation"
   ]
  },
  {
   "cell_type": "code",
   "execution_count": null,
   "id": "c3eb2c46-3f60-42ce-b16b-1f1a25ee7a5e",
   "metadata": {
    "scrolled": true,
    "tags": []
   },
   "outputs": [],
   "source": [
    "v_total = 900*units('ul')\n",
    "PVC=0.8\n",
    "phi_T=0.20\n",
    "\n",
    "target_vfrac =  {'H2O': 0.5291556678471582 ,'D2O': 0.4708443321528418 }\n",
    "deck.reset_targets()\n",
    "for PVC in np.linspace(0.0,1.0,9):\n",
    "    for phi_T in np.linspace(0.025,0.25,9):\n",
    "\n",
    "        target = prepare.Solution('target',['H2O','D2O',latex,pigment])\n",
    "        target[latex].volume = v_total * (phi_T/phi_latex) * (1-PVC)\n",
    "        target[pigment].volume = v_total * (phi_T/phi_slurry) * PVC\n",
    "        vHD2O = v_total - target[pigment].volume - target[latex].volume\n",
    "        target['H2O'].volume = vHD2O*target_vfrac['H2O']\n",
    "        target['D2O'].volume = vHD2O*target_vfrac['D2O']\n",
    "        \n",
    "        \n",
    "        name=f'{latex}_{pigment}_phiT_{phi_T:4.3f}_PVC_{PVC:4.3f}'\n",
    "        deck.add_target(target,name=name)\n",
    "    \n",
    "deck.volume_cutoff = 20*units('ul')\n",
    "deck.make_sample_series(reset_sample_series=True)\n",
    "deck.validate_sample_series(tolerance=0.15)"
   ]
  },
  {
   "cell_type": "code",
   "execution_count": null,
   "id": "8153f2da-d89a-4a74-a3d8-ecb227e9975e",
   "metadata": {},
   "outputs": [],
   "source": [
    "x = []; y=[]\n",
    "for sample,validated in deck.sample_series:\n",
    "    if not validated:\n",
    "        continue\n",
    "    x.append(sample.target_check.concentration[pigment].to('mg/ml').magnitude)\n",
    "    y.append(sample.target_check.concentration[latex].to('mg/ml').magnitude)\n",
    "plt.scatter(x,y) \n",
    "    "
   ]
  },
  {
   "cell_type": "markdown",
   "id": "fb40c7b6-0328-48b3-afee-5dbdfeab4ac9",
   "metadata": {
    "jupyter": {
     "source_hidden": true
    },
    "tags": []
   },
   "source": [
    "# Calculate Mask"
   ]
  },
  {
   "cell_type": "code",
   "execution_count": null,
   "id": "109cac3d-d806-4c7d-966b-b2ef3d8ae89e",
   "metadata": {
    "jupyter": {
     "source_hidden": true
    },
    "tags": []
   },
   "outputs": [],
   "source": [
    "components = ['TiO2','latex','H2O','D2O']\n",
    "AL_components = ['TiO2','latex']\n",
    "AL_components_grid = [k+'_grid' for k in AL_components]"
   ]
  },
  {
   "cell_type": "code",
   "execution_count": null,
   "id": "23770ce7-438f-4f23-93d9-49a6db1e3a34",
   "metadata": {
    "jupyter": {
     "source_hidden": true
    },
    "tags": []
   },
   "outputs": [],
   "source": [
    "MB = deck.make_mass_balance()\n",
    "MB.process_components()\n",
    "samples = MB.sample_composition_space(grid_density=9,pipette_min=5*units('ul'),composition_data='conc')\n",
    "# samples1 = MB.constrain_samples_conc(\n",
    "#     {\n",
    "#         'PS80':{'value':75*units('mg/ml'), 'compare':'lt'},\n",
    "#         'benzyl_alcohol_solute':{'value':30*units('mg/ml'), 'compare':'lt'},\n",
    "#         'phenol_solute':{'value':30*units('mg/ml'), 'compare':'lt'},\n",
    "#     },\n",
    "#     rtol=0.05)\n",
    "\n",
    "MB.stock_samples.attrs['components'] = AL_components\n",
    "MB.stock_samples.attrs['TiO2_range'] = [1,50]\n",
    "MB.stock_samples.attrs['benzyl_alcohol_solute_range'] = [0,25]\n",
    "MB.stock_samples.attrs['phenol_solute_range'] = [0,25]\n",
    "MB.stock_samples.attrs['PS80_units'] = 'mg/ml'\n",
    "MB.stock_samples.attrs['benzyl_alcohol_solute_units'] = 'mg/ml'\n",
    "MB.stock_samples.attrs['phenol_solute_units'] = 'mg/ml'"
   ]
  },
  {
   "cell_type": "code",
   "execution_count": null,
   "id": "f678fe46-3584-4b6f-bae1-ec2cad0d8c19",
   "metadata": {
    "jupyter": {
     "source_hidden": true
    },
    "tags": []
   },
   "outputs": [],
   "source": []
  },
  {
   "cell_type": "code",
   "execution_count": null,
   "id": "4a46c953-33c7-4664-81d3-52eb298fb482",
   "metadata": {
    "jupyter": {
     "source_hidden": true
    },
    "tags": []
   },
   "outputs": [],
   "source": [
    "MB.calculate_bounds(components=AL_components,exclude_comps_below=0.0001,composition_data='samples_conc',ternary=False)"
   ]
  },
  {
   "cell_type": "code",
   "execution_count": null,
   "id": "40b3ec25-2165-48c3-bd76-83642386cac6",
   "metadata": {
    "jupyter": {
     "source_hidden": true
    },
    "tags": []
   },
   "outputs": [],
   "source": [
    "MB.make_grid_mask(pts_per_row=35,ternary=False)\n",
    "MB.stock_samples = MB.stock_samples.reset_index('grid').reset_coords().set_index(grid='grid_mask').sel(grid=True).reset_index('grid').reset_coords().rename({'grid_':'mask'})\n",
    "MB.stock_samples"
   ]
  },
  {
   "cell_type": "code",
   "execution_count": null,
   "id": "071fa39f-ce4b-49c8-b853-b0c0fef86d4d",
   "metadata": {
    "jupyter": {
     "source_hidden": true
    },
    "tags": []
   },
   "outputs": [],
   "source": [
    "%matplotlib tk\n",
    "fig = plt.figure(figsize=(6,6))\n",
    "ax = fig.add_subplot(projection='3d')\n",
    "\n",
    "grid_data = MB.stock_samples[['PS80_grid','benzyl_alcohol_solute_grid','phenol_solute_grid']]\n",
    "mask = np.zeros_like(grid_data.PS80_grid,dtype=bool)\n",
    "for z in np.linspace(2,50,25):\n",
    "    mask = np.logical_or(mask,np.isclose(grid_data.PS80_grid,z,rtol=0.1))\n",
    "\n",
    "    \n",
    "grid_data = grid_data.where(grid_data.PS80_grid.copy(data=mask),drop=True)\n",
    "z = grid_data.PS80_grid\n",
    "x = grid_data.benzyl_alcohol_solute_grid\n",
    "y = grid_data.phenol_solute_grid\n",
    "ax.scatter(xs=x,ys=y,zs=z,color='g',marker='o')\n",
    "\n",
    "\n"
   ]
  },
  {
   "cell_type": "code",
   "execution_count": null,
   "id": "c92b2bc8-5e7e-4c85-80a8-44ecd61f950a",
   "metadata": {
    "jupyter": {
     "source_hidden": true
    },
    "tags": []
   },
   "outputs": [],
   "source": [
    "grid_mask = MB.stock_samples[['mask']+AL_components_grid]\n",
    "grid_mask.attrs.update(MB.stock_samples.attrs)\n",
    "grid_mask"
   ]
  },
  {
   "cell_type": "code",
   "execution_count": null,
   "id": "1598c262-bf80-4bff-b440-3dee2fe7bc90",
   "metadata": {},
   "outputs": [],
   "source": [
    "AL_kwargs = copy.copy(MB.stock_samples.attrs)\n",
    "del AL_kwargs['hull']\n",
    "del AL_kwargs['delaunay']\n",
    "AL_kwargs['GP_domain_transform'] = 'range_scaled'\n",
    "AL_kwargs"
   ]
  },
  {
   "cell_type": "code",
   "execution_count": null,
   "id": "d97c4d5a-8de9-48a7-ae8c-88e981ee912c",
   "metadata": {},
   "outputs": [],
   "source": []
  },
  {
   "cell_type": "markdown",
   "id": "06a369ac-f9a7-47a2-bbdf-1542c44dc69c",
   "metadata": {
    "tags": []
   },
   "source": [
    "## Specify Mixing Wells in Wellplates"
   ]
  },
  {
   "cell_type": "code",
   "execution_count": null,
   "id": "c6323362-54fd-4033-903d-fa6f69ffdc1e",
   "metadata": {},
   "outputs": [],
   "source": [
    "w = prepare.make_wellplate_locs(slot=4,size=96)\n",
    "deck.client.enqueue(task_name='add_prep_targets', targets=w, reset=True )"
   ]
  },
  {
   "cell_type": "code",
   "execution_count": null,
   "id": "5921900d-3692-4d5a-9051-fa0d54d37f76",
   "metadata": {},
   "outputs": [],
   "source": [
    "deck.client.enqueue(task_name='set_shake',rpm=1000)"
   ]
  },
  {
   "cell_type": "markdown",
   "id": "67698701-4429-42f9-9121-016c45f043a7",
   "metadata": {},
   "source": [
    "# Configure Sample Server"
   ]
  },
  {
   "cell_type": "code",
   "execution_count": null,
   "id": "76a58987-6e8a-4336-afb8-f8c737ce9cd9",
   "metadata": {},
   "outputs": [],
   "source": [
    "sample_client = Client('localhost',port=5000)\n",
    "sample_client.login('nb')"
   ]
  },
  {
   "cell_type": "code",
   "execution_count": null,
   "id": "c8931e0f-30f6-4db6-8301-618e2dbe3674",
   "metadata": {},
   "outputs": [],
   "source": [
    "catch_protocol = {'source': 'target',\n",
    " 'dest': '10A1',\n",
    " 'volume': 900.0,\n",
    " 'mix_before': None,\n",
    " 'mix_after': None,\n",
    " 'blow_out': False,\n",
    " 'aspirate_rate': 200,\n",
    " 'dispense_rate': 200,\n",
    " 'post_aspirate_delay': 5,\n",
    " 'post_dispense_delay': 5}\n",
    "\n",
    "sample_client.enqueue(task_name='set_catch_protocol',**catch_protocol)"
   ]
  },
  {
   "cell_type": "code",
   "execution_count": null,
   "id": "4f17be74-c139-4106-8f52-2ad3bc7fa97c",
   "metadata": {},
   "outputs": [],
   "source": [
    "#sample_client.set_object(deck=deck)\n",
    "sample_client.enqueue(task_name='reset_deck')\n",
    "for stock in deck.stocks:\n",
    "    sample_client.enqueue(\n",
    "        task_name='add_stock',\n",
    "        stock_dict=stock.to_dict(),\n",
    "        loc=deck.stock_location[stock],\n",
    "    )\n",
    "    \n",
    "for mount,(name,tipracks) in deck.pipettes.items(): \n",
    "    tipracks = [(t,deck.tip_racks[t]) for t in tipracks]\n",
    "    sample_client.enqueue(\n",
    "        task_name='add_pipette',\n",
    "        name=name,\n",
    "        mount=mount,\n",
    "        tipracks=tipracks,\n",
    "    )\n",
    "    \n",
    "for slot,container in deck.containers.items(): \n",
    "    sample_client.enqueue(\n",
    "        task_name='add_container',\n",
    "        name=container,\n",
    "        slot=slot\n",
    "    )\n",
    "    \n",
    "for slot,catch in deck.catches.items(): \n",
    "    sample_client.enqueue(\n",
    "        task_name='add_catch',\n",
    "        name=catch,\n",
    "        slot=slot\n",
    "    )"
   ]
  },
  {
   "cell_type": "code",
   "execution_count": null,
   "id": "0c129f0e-96fd-4e40-a0a1-1b58efb0473e",
   "metadata": {},
   "outputs": [],
   "source": [
    "mix_order =  [\n",
    "    'stock_H2O',\n",
    "    'stock_D2O',\n",
    "    'stock_TiO2',\n",
    "    'stock_latex',\n",
    "]\n",
    "\n",
    "custom_stock_settings = {\n",
    "    #example: '1A1': {'post_aspirate_delay':2,\n",
    "    #                 'post_dispense_delay':2,\n",
    "    #                 'aspirate_rate':40,\n",
    "    #                 'dispense_rate':40\n",
    "    #                 },\n",
    "    \n",
    "    deck.get_stock('stock_H2O')[1]: {'post_aspirate_delay':1,\n",
    "                    'post_dispense_delay':1,\n",
    "                    'aspirate_rate':200,\n",
    "                    'dispense_rate':200\n",
    "                    }  , \n",
    "    deck.get_stock('stock_D2O')[1]: {'post_aspirate_delay':1,\n",
    "                    'post_dispense_delay':1,\n",
    "                    'aspirate_rate':200,\n",
    "                    'dispense_rate':200\n",
    "                    }  , \n",
    "    deck.get_stock('stock_TiO2')[1]: {'post_aspirate_delay':10,\n",
    "                     'post_dispense_delay':10,\n",
    "                     'aspirate_rate':50,\n",
    "                     'dispense_rate':50\n",
    "                     }  , \n",
    "    deck.get_stock('stock_latex')[1]: {'post_aspirate_delay':5,\n",
    "                     'post_dispense_delay':5,\n",
    "                     'aspirate_rate':100,\n",
    "                     'dispense_rate':100\n",
    "                     }  , \n",
    " \n",
    "}\n",
    "custom_stock_settings"
   ]
  },
  {
   "cell_type": "code",
   "execution_count": null,
   "id": "61ae7725-f0ba-4dec-a419-077b23c02f66",
   "metadata": {},
   "outputs": [],
   "source": [
    "client_dict = {\n",
    "    'prep':'piot2:5000',\n",
    "    'load':'piloader:5000',\n",
    "    'agent':'localhost:5053',\n",
    "    'inst':'130.246.38.36:5000',\n",
    "}\n",
    "instrument = [\n",
    "    {\n",
    "        'name':'ISISLarmor',\n",
    "        'client_name':'inst',\n",
    "        'load_dest_label':'afterSPEC',\n",
    "        'empty_base_kw': {'task_name':'expose', 'exposure':1.0, 'exposure_trans':0.5, 'expose_metric':'uamps','reduce_data':True},\n",
    "        'measure_base_kw': {'task_name':'expose', 'exposure':5.0, 'exposure_trans':2.0, 'expose_metric':'uamps','reduce_data':True},\n",
    "                            \n",
    "    }\n",
    "]\n",
    "sample_client.set_config(\n",
    "    data_path='/home/afl642/LARMOR_data/',\n",
    "    client=client_dict,\n",
    "    instrument=instrument,\n",
    "    ternary=False,\n",
    "    data_tag='tio2_latex_series1',\n",
    "    components=[pigment,latex,'H2O','D2O'],\n",
    "    custom_stock_settings=custom_stock_settings,\n",
    "    mix_order=mix_order\n",
    "    \n",
    ")"
   ]
  },
  {
   "cell_type": "code",
   "execution_count": null,
   "id": "29664a40-8db5-477b-adbb-553cb0dcf7e6",
   "metadata": {},
   "outputs": [],
   "source": [
    "deck.sample_series"
   ]
  },
  {
   "cell_type": "markdown",
   "id": "c79e28c9-8c12-4548-83e8-24e71ec6a249",
   "metadata": {},
   "source": [
    "# Enqueue Series"
   ]
  },
  {
   "cell_type": "code",
   "execution_count": null,
   "id": "52b93871-914f-4d19-8fb0-d610fc875b98",
   "metadata": {},
   "outputs": [],
   "source": []
  },
  {
   "cell_type": "code",
   "execution_count": null,
   "id": "35e0b01c-8468-41b3-bdd5-a49ca7258d46",
   "metadata": {},
   "outputs": [],
   "source": [
    "for sample,validated in deck.sample_series:\n",
    "    if not validated:\n",
    "        continue\n",
    "    composition = {k:{'value':v.magnitude ,'units':str(v.units)} for k,v in  sample.target_check.concentration.items()}\n",
    "    \n",
    "    task = {}\n",
    "    task['task_name'] = 'process_sample'\n",
    "    task['composition'] = composition\n",
    "    task['sample_volume'] = {'value':900,'units':'ul'}\n",
    "    task['fixed_concs'] = []\n",
    "    task['predict_next'] = False\n",
    "    task['enqueue_next'] = False\n",
    "    task['name'] = sample.name\n",
    "    \n",
    "    sample_client.enqueue(interactive=False,**task)"
   ]
  },
  {
   "cell_type": "code",
   "execution_count": null,
   "id": "0f95bc00-48d5-4ac4-9d49-2c7a010dc4fb",
   "metadata": {},
   "outputs": [],
   "source": [
    "sample"
   ]
  },
  {
   "cell_type": "markdown",
   "id": "0bbdae2b-ee3d-48c1-89f2-b6987dc26561",
   "metadata": {
    "tags": []
   },
   "source": [
    "# Loader"
   ]
  },
  {
   "cell_type": "code",
   "execution_count": null,
   "id": "0bae3bb0-7a09-499e-8238-ed3ac7f4b57d",
   "metadata": {},
   "outputs": [],
   "source": [
    "load = Client(\"piloader\",port=5000)\n",
    "load.login('nb')"
   ]
  },
  {
   "cell_type": "code",
   "execution_count": null,
   "id": "aac9d147-658d-4e06-9127-e88659e669fb",
   "metadata": {},
   "outputs": [],
   "source": [
    "load.enqueue(task_name='rinseCell')"
   ]
  },
  {
   "cell_type": "code",
   "execution_count": null,
   "id": "02d6956a-c4c3-442c-8812-dcab3f8954d1",
   "metadata": {},
   "outputs": [],
   "source": [
    "load.enqueue(task_name='calibrate_sensor')"
   ]
  },
  {
   "cell_type": "code",
   "execution_count": null,
   "id": "718a6edd-a2bd-417d-9642-4d5c21477aed",
   "metadata": {},
   "outputs": [],
   "source": [
    "load.enqueue(task_name='loadSample',load_dest_label='afterSPEC')"
   ]
  },
  {
   "cell_type": "code",
   "execution_count": null,
   "id": "74cae239-d4ff-4f40-8076-75bdfb3db444",
   "metadata": {},
   "outputs": [],
   "source": [
    "load.enqueue(task_name='advanceSample',load_dest_label='afterSANS')"
   ]
  },
  {
   "cell_type": "code",
   "execution_count": null,
   "id": "60f61cdb-e273-46c1-8399-299b406d398f",
   "metadata": {},
   "outputs": [],
   "source": [
    "load.get_config(\"all\",interactive=True)"
   ]
  },
  {
   "cell_type": "code",
   "execution_count": null,
   "id": "c9f5b87c-4752-4ef0-b65d-1a71b639d113",
   "metadata": {},
   "outputs": [],
   "source": [
    "rinse_program = [ \n",
    "    ['rinse1', 30], \n",
    "    [None, 5], \n",
    "    ['rinse2', 30], \n",
    "    [None, 5],\n",
    "   ['blow', 20],\n",
    "   [None, 5],\n",
    "   ['blow', 5],\n",
    "   [None, 5],\n",
    "   ['blow', 5],\n",
    "   [None, 5],\n",
    "   ['blow', 10],\n",
    "   [None, 5],\n",
    "   ['blow', 10],\n",
    "   [None, 5],\n",
    "   ['blow', 10]\n",
    "]\n",
    "load.set_config(rinse_program=rinse_program)"
   ]
  },
  {
   "cell_type": "code",
   "execution_count": null,
   "id": "f10b25de-468a-45bd-b59f-9110af61f20d",
   "metadata": {},
   "outputs": [],
   "source": [
    "rinse_program = [  \n",
    "    ['rinse1', 5], \n",
    "    [None,5], \n",
    "    ['rinse2', 5], \n",
    "    [None,5], \n",
    "    ['blow', 5]\n",
    "]\n",
    "load.set_config(rinse_program=rinse_program)"
   ]
  },
  {
   "cell_type": "markdown",
   "id": "3285cadd-6b89-42a5-80f4-411ff191e810",
   "metadata": {
    "tags": []
   },
   "source": [
    "# Larmor"
   ]
  },
  {
   "cell_type": "code",
   "execution_count": null,
   "id": "3d83eaf4-f6de-4b9a-b32a-b2fbc6767465",
   "metadata": {},
   "outputs": [],
   "source": [
    "client = Client('130.246.38.36',port=5000)\n",
    "client.login('test')\n",
    "client.pause(False)"
   ]
  },
  {
   "cell_type": "code",
   "execution_count": null,
   "id": "e4d30526-2af1-47ad-9a44-367fffbea3fd",
   "metadata": {},
   "outputs": [],
   "source": [
    "client.enqueue(\n",
    "    task_name='expose',\n",
    "    name='{Empty Cell PostWindowReplace}',\n",
    "    exposure=10, \n",
    "    exposure_trans=2,\n",
    "    expose_metric='uamps', \n",
    "    reduce_data=True\n",
    ")"
   ]
  },
  {
   "cell_type": "markdown",
   "id": "466459c7-073a-40bc-97f0-cce6e1ad18f9",
   "metadata": {},
   "source": [
    "# sdfa"
   ]
  },
  {
   "cell_type": "markdown",
   "id": "ab41269b-7780-4e27-a2cf-12f0df9ee2e2",
   "metadata": {},
   "source": [
    "# Analyze Series"
   ]
  },
  {
   "cell_type": "code",
   "execution_count": 4,
   "id": "825feb7a-fff4-43bb-a3c8-713cd90bd92a",
   "metadata": {},
   "outputs": [
    {
     "data": {
      "text/plain": [
       "<Container {}>"
      ]
     },
     "execution_count": 4,
     "metadata": {},
     "output_type": "execute_result"
    }
   ],
   "source": [
    "from tiled.client import from_uri\n",
    "from tiled.queries import Eq,Contains, NotIn, Regex\n",
    "\n",
    "tiled_client = from_uri('http://localhost:8000',api_key='NistoRoboto642')\n",
    "result = (\n",
    "    tiled_client\n",
    "    .search(Eq('task_name','expose'))\n",
    "    # .search(Eq('array_name','I'))\n",
    "    .search(In('array_name',['I','err']))\n",
    "    .search(Eq('driver_config.empty_cell_scatt_rn',80563))\n",
    "    .search(Contains('name','micelles'))\n",
    ")\n",
    "result"
   ]
  },
  {
   "cell_type": "code",
   "execution_count": null,
   "id": "57bed351-83a5-4178-97eb-a5333d8f7330",
   "metadata": {},
   "outputs": [],
   "source": [
    "ds_list = []\n",
    "\n",
    "for uid,array in result.items():\n",
    "    \n",
    "    name = array.metadata['name']\n",
    "    if 'MT-' in name:\n",
    "        continue\n",
    "    \n",
    "        \n",
    "    \n",
    "    ds = xr.Dataset()\n",
    "    ds[\"I\"] = xr.DataArray(array[()],dims=['q'],coords={'q':array.metadata['q']})\n",
    "    ds[\"name\"] = name\n",
    "    ds['dI']  \n",
    "    #ds[\"phi\"] = phi\n",
    "    ds_list.append(ds)\n",
    "\n",
    "ds = xr.concat(ds_list,dim='sample')\n",
    "ds.to_netcdf('~/Documents/brads_data/5component_salt_micelle_tiled_pull.nc')\n",
    "# lines = ds.set_index(sample='name').I.afl.scatt.plot_loglog(x='q')\n",
    "# plt.legend(ds.name.values,bbox_to_anchor=(1.0,0.5),loc=6)"
   ]
  },
  {
   "cell_type": "code",
   "execution_count": null,
   "id": "0e7f826a-8a10-456f-b853-c0921c7bf55e",
   "metadata": {},
   "outputs": [],
   "source": [
    "plt.figure(figsize=(4,24))\n",
    "ds.I.afl.scatt.plot_logwaterfall()"
   ]
  },
  {
   "cell_type": "code",
   "execution_count": null,
   "id": "9f73ca9b-d110-424a-a2a3-4a4180172a2c",
   "metadata": {},
   "outputs": [],
   "source": [
    "tiled_client = from_uri('http://localhost:8000',api_key='NistoRoboto642')\n",
    "result = (\n",
    "    tiled_client\n",
    "    .search(Eq('task_name','expose'))\n",
    "    .search(Eq('array_name','I'))\n",
    "    .search(Contains('name','micelle'))\n",
    ")"
   ]
  },
  {
   "cell_type": "code",
   "execution_count": 4,
   "id": "1721eb0d-3b6f-45b6-b344-df60d2358517",
   "metadata": {},
   "outputs": [
    {
     "ename": "ValueError",
     "evalue": "must supply at least one object to concatenate",
     "output_type": "error",
     "traceback": [
      "\u001b[0;31m---------------------------------------------------------------------------\u001b[0m",
      "\u001b[0;31mStopIteration\u001b[0m                             Traceback (most recent call last)",
      "File \u001b[0;32m~/miniforge3/envs/afl_agent/lib/python3.11/site-packages/xarray/core/concat.py:230\u001b[0m, in \u001b[0;36mconcat\u001b[0;34m(objs, dim, data_vars, coords, compat, positions, fill_value, join, combine_attrs)\u001b[0m\n\u001b[1;32m    229\u001b[0m \u001b[38;5;28;01mtry\u001b[39;00m:\n\u001b[0;32m--> 230\u001b[0m     first_obj, objs \u001b[38;5;241m=\u001b[39m \u001b[43mutils\u001b[49m\u001b[38;5;241;43m.\u001b[39;49m\u001b[43mpeek_at\u001b[49m\u001b[43m(\u001b[49m\u001b[43mobjs\u001b[49m\u001b[43m)\u001b[49m\n\u001b[1;32m    231\u001b[0m \u001b[38;5;28;01mexcept\u001b[39;00m \u001b[38;5;167;01mStopIteration\u001b[39;00m:\n",
      "File \u001b[0;32m~/miniforge3/envs/afl_agent/lib/python3.11/site-packages/xarray/core/utils.py:194\u001b[0m, in \u001b[0;36mpeek_at\u001b[0;34m(iterable)\u001b[0m\n\u001b[1;32m    193\u001b[0m gen \u001b[38;5;241m=\u001b[39m \u001b[38;5;28miter\u001b[39m(iterable)\n\u001b[0;32m--> 194\u001b[0m peek \u001b[38;5;241m=\u001b[39m \u001b[38;5;28;43mnext\u001b[39;49m\u001b[43m(\u001b[49m\u001b[43mgen\u001b[49m\u001b[43m)\u001b[49m\n\u001b[1;32m    195\u001b[0m \u001b[38;5;28;01mreturn\u001b[39;00m peek, itertools\u001b[38;5;241m.\u001b[39mchain([peek], gen)\n",
      "\u001b[0;31mStopIteration\u001b[0m: ",
      "\nDuring handling of the above exception, another exception occurred:\n",
      "\u001b[0;31mValueError\u001b[0m                                Traceback (most recent call last)",
      "Cell \u001b[0;32mIn[4], line 28\u001b[0m\n\u001b[1;32m     25\u001b[0m     ds[\u001b[38;5;124m\"\u001b[39m\u001b[38;5;124mname\u001b[39m\u001b[38;5;124m\"\u001b[39m] \u001b[38;5;241m=\u001b[39m name\n\u001b[1;32m     26\u001b[0m     ds_list\u001b[38;5;241m.\u001b[39mappend(ds)\n\u001b[0;32m---> 28\u001b[0m ds \u001b[38;5;241m=\u001b[39m \u001b[43mxr\u001b[49m\u001b[38;5;241;43m.\u001b[39;49m\u001b[43mconcat\u001b[49m\u001b[43m(\u001b[49m\u001b[43mds_list\u001b[49m\u001b[43m,\u001b[49m\u001b[43mdim\u001b[49m\u001b[38;5;241;43m=\u001b[39;49m\u001b[38;5;124;43m'\u001b[39;49m\u001b[38;5;124;43msample\u001b[39;49m\u001b[38;5;124;43m'\u001b[39;49m\u001b[43m)\u001b[49m\n\u001b[1;32m     30\u001b[0m ds\u001b[38;5;241m.\u001b[39mto_netcdf(\u001b[38;5;124m'\u001b[39m\u001b[38;5;124m~/Documents/brads_data/salt_SDS_I_tiled_pull.nc\u001b[39m\u001b[38;5;124m'\u001b[39m)\n\u001b[1;32m     32\u001b[0m result \u001b[38;5;241m=\u001b[39m (\n\u001b[1;32m     33\u001b[0m     tiled_client\n\u001b[1;32m     34\u001b[0m     \u001b[38;5;241m.\u001b[39msearch(Eq(\u001b[38;5;124m'\u001b[39m\u001b[38;5;124mtask_name\u001b[39m\u001b[38;5;124m'\u001b[39m,\u001b[38;5;124m'\u001b[39m\u001b[38;5;124mexpose\u001b[39m\u001b[38;5;124m'\u001b[39m))\n\u001b[1;32m     35\u001b[0m     \u001b[38;5;241m.\u001b[39msearch(Eq(\u001b[38;5;124m'\u001b[39m\u001b[38;5;124marray_name\u001b[39m\u001b[38;5;124m'\u001b[39m,\u001b[38;5;124m'\u001b[39m\u001b[38;5;124mdI\u001b[39m\u001b[38;5;124m'\u001b[39m))\n\u001b[1;32m     36\u001b[0m     \u001b[38;5;241m.\u001b[39msearch(Contains(\u001b[38;5;124m'\u001b[39m\u001b[38;5;124msample_name\u001b[39m\u001b[38;5;124m'\u001b[39m,\u001b[38;5;124m'\u001b[39m\u001b[38;5;124mCuCl2\u001b[39m\u001b[38;5;124m'\u001b[39m))\n\u001b[1;32m     37\u001b[0m )\n",
      "File \u001b[0;32m~/miniforge3/envs/afl_agent/lib/python3.11/site-packages/xarray/core/concat.py:232\u001b[0m, in \u001b[0;36mconcat\u001b[0;34m(objs, dim, data_vars, coords, compat, positions, fill_value, join, combine_attrs)\u001b[0m\n\u001b[1;32m    230\u001b[0m     first_obj, objs \u001b[38;5;241m=\u001b[39m utils\u001b[38;5;241m.\u001b[39mpeek_at(objs)\n\u001b[1;32m    231\u001b[0m \u001b[38;5;28;01mexcept\u001b[39;00m \u001b[38;5;167;01mStopIteration\u001b[39;00m:\n\u001b[0;32m--> 232\u001b[0m     \u001b[38;5;28;01mraise\u001b[39;00m \u001b[38;5;167;01mValueError\u001b[39;00m(\u001b[38;5;124m\"\u001b[39m\u001b[38;5;124mmust supply at least one object to concatenate\u001b[39m\u001b[38;5;124m\"\u001b[39m)\n\u001b[1;32m    234\u001b[0m \u001b[38;5;28;01mif\u001b[39;00m compat \u001b[38;5;129;01mnot\u001b[39;00m \u001b[38;5;129;01min\u001b[39;00m _VALID_COMPAT:\n\u001b[1;32m    235\u001b[0m     \u001b[38;5;28;01mraise\u001b[39;00m \u001b[38;5;167;01mValueError\u001b[39;00m(\n\u001b[1;32m    236\u001b[0m         \u001b[38;5;124mf\u001b[39m\u001b[38;5;124m\"\u001b[39m\u001b[38;5;124mcompat=\u001b[39m\u001b[38;5;132;01m{\u001b[39;00mcompat\u001b[38;5;132;01m!r}\u001b[39;00m\u001b[38;5;124m invalid: must be \u001b[39m\u001b[38;5;124m'\u001b[39m\u001b[38;5;124mbroadcast_equals\u001b[39m\u001b[38;5;124m'\u001b[39m\u001b[38;5;124m, \u001b[39m\u001b[38;5;124m'\u001b[39m\u001b[38;5;124mequals\u001b[39m\u001b[38;5;124m'\u001b[39m\u001b[38;5;124m, \u001b[39m\u001b[38;5;124m'\u001b[39m\u001b[38;5;124midentical\u001b[39m\u001b[38;5;124m'\u001b[39m\u001b[38;5;124m, \u001b[39m\u001b[38;5;124m'\u001b[39m\u001b[38;5;124mno_conflicts\u001b[39m\u001b[38;5;124m'\u001b[39m\u001b[38;5;124m or \u001b[39m\u001b[38;5;124m'\u001b[39m\u001b[38;5;124moverride\u001b[39m\u001b[38;5;124m'\u001b[39m\u001b[38;5;124m\"\u001b[39m\n\u001b[1;32m    237\u001b[0m     )\n",
      "\u001b[0;31mValueError\u001b[0m: must supply at least one object to concatenate"
     ]
    }
   ],
   "source": [
    "from tiled.client import from_uri\n",
    "from tiled.queries import Eq,Contains, NotIn, Regex\n",
    "import xarray as xr\n",
    "\n",
    "tiled_client = from_uri('http://localhost:8000',api_key='NistoRoboto642')\n",
    "result = (\n",
    "    tiled_client\n",
    "    .search(Eq('task_name','expose'))\n",
    "    .search(Eq('array_name','I'))\n",
    "    .search(Contains('sample_name','CuCl2'))\n",
    ")\n",
    "\n",
    "ds_list = []\n",
    "\n",
    "for uid,array in result.items():\n",
    "    \n",
    "    name = array.metadata['name']\n",
    "    if 'MT-' in name:\n",
    "        continue\n",
    "    \n",
    "        \n",
    "    \n",
    "    ds = xr.Dataset()\n",
    "    ds[\"I\"] = xr.DataArray(array[()],dims=['q'],coords={'q':array.metadata['q']})\n",
    "    ds[\"name\"] = name\n",
    "    ds_list.append(ds)\n",
    "\n",
    "ds = xr.concat(ds_list,dim='sample')\n",
    "\n",
    "ds.to_netcdf('~/Documents/brads_data/salt_SDS_I_tiled_pull.nc')\n",
    "\n",
    "result = (\n",
    "    tiled_client\n",
    "    .search(Eq('task_name','expose'))\n",
    "    .search(Eq('array_name','dI'))\n",
    "    .search(Contains('sample_name','CuCl2'))\n",
    ")\n",
    "\n",
    "ds_list = []\n",
    "\n",
    "for uid,array in result.items():\n",
    "    \n",
    "    name = array.metadata['name']\n",
    "    if 'MT-' in name:\n",
    "        continue\n",
    "    \n",
    "        \n",
    "    \n",
    "    ds = xr.Dataset()\n",
    "    ds[\"dI\"] = xr.DataArray(array[()],dims=['q'],coords={'q':array.metadata['q']})\n",
    "    ds[\"name\"] = name\n",
    "    #ds[\"phi\"] = phi\n",
    "    ds_list.append(ds)\n",
    "\n",
    "ds = xr.concat(ds_list,dim='sample')\n",
    "\n",
    "ds.to_netcdf('~/Documents/brads_data/salt_SDS_dI_tiled_pull.nc')\n",
    "\n",
    "# result = (\n",
    "#     tiled_client\n",
    "#     .search(Eq('task_name','expose'))\n",
    "#     .search(Eq('array_name','I'))\n",
    "#     .search(Contains('sample_name','CuCl2'))\n",
    "# )\n",
    "\n",
    "# ds_list = []\n",
    "\n",
    "# for uid,array in result.items():\n",
    "    \n",
    "#     name = array.metadata['name']\n",
    "#     if 'MT-' in name:\n",
    "        \n",
    "#         ds = xr.Dataset()\n",
    "#         ds[\"I\"] = xr.DataArray(array[()],dims=['q'],coords={'q':array.metadata['q']})\n",
    "#         ds[\"name\"] = name\n",
    "#         ds_list.append(ds)\n",
    "\n",
    "# ds = xr.concat(ds_list,dim='sample')\n",
    "\n",
    "# ds.to_netcdf('~/Documents/brads_data/salt_SDS_blank_I_tiled_pull.nc')\n",
    "\n",
    "# result = (\n",
    "#     tiled_client\n",
    "#     .search(Eq('task_name','expose'))\n",
    "#     .search(Eq('array_name','dI'))\n",
    "#     .search(Contains('sample_name','SDS'))\n",
    "# )\n",
    "\n",
    "# ds_list = []\n",
    "\n",
    "# for uid,array in result.items():\n",
    "    \n",
    "#     name = array.metadata['name']\n",
    "#     if 'MT-' in name:\n",
    "        \n",
    "#         ds = xr.Dataset()\n",
    "#         ds[\"I\"] = xr.DataArray(array[()],dims=['q'],coords={'q':array.metadata['q']})\n",
    "#         ds[\"name\"] = name\n",
    "#         ds_list.append(ds)\n",
    "\n",
    "# ds = xr.concat(ds_list,dim='sample')\n",
    "\n",
    "# ds.to_netcdf('~/Documents/brads_data/salt_SDS_blank_dI_tiled_pull.nc')\n"
   ]
  },
  {
   "cell_type": "code",
   "execution_count": null,
   "id": "e2304a52-5dcc-448d-a457-828c0205bd24",
   "metadata": {},
   "outputs": [],
   "source": []
  }
 ],
 "metadata": {
  "kernelspec": {
   "display_name": "afl_agent",
   "language": "python",
   "name": "afl_agent"
  },
  "language_info": {
   "codemirror_mode": {
    "name": "ipython",
    "version": 3
   },
   "file_extension": ".py",
   "mimetype": "text/x-python",
   "name": "python",
   "nbconvert_exporter": "python",
   "pygments_lexer": "ipython3",
   "version": "3.11.7"
  }
 },
 "nbformat": 4,
 "nbformat_minor": 5
}
